{
 "cells": [
  {
   "cell_type": "code",
   "execution_count": 1,
   "metadata": {},
   "outputs": [],
   "source": [
    "from rnaglib.tasks import gRNAde, BindingSiteDetection, BenchmarkLigandBindingSiteDetection, InverseFolding\n",
    "from rnaglib.representations import GraphRepresentation\n",
    "from rnaglib.data_loading import Collater\n",
    "import torch\n",
    "from torch.utils.data import DataLoader\n",
    "from torch_geometric.data import Data\n",
    "import torch.nn.functional as F\n",
    "from torch_geometric.nn import GCNConv, GraphConv, SAGEConv, RGCNConv\n",
    "import torch.optim as optim\n",
    "import wandb\n",
    "from collections import Counter\n",
    "from torch.nn import BatchNorm1d, Dropout\n",
    "import shutil\n",
    "import numpy as np\n",
    "from sklearn.metrics import accuracy_score, f1_score, roc_auc_score, matthews_corrcoef\n",
    "from pathlib import Path"
   ]
  },
  {
   "cell_type": "code",
   "execution_count": 2,
   "metadata": {},
   "outputs": [
    {
     "name": "stdout",
     "output_type": "stream",
     "text": [
      "Database was found and not overwritten\n",
      ">>> Computing splits...\n",
      ">>> Saving dataset.\n",
      ">>> Done\n"
     ]
    }
   ],
   "source": [
    "if Path('ifchim').exists():\n",
    "    shutil.rmtree('ifchim')\n",
    "ta = InverseFolding(root='ifchim')"
   ]
  },
  {
   "cell_type": "code",
   "execution_count": 3,
   "metadata": {},
   "outputs": [],
   "source": [
    "ta.dataset.add_representation(GraphRepresentation(framework = 'pyg'))"
   ]
  },
  {
   "cell_type": "code",
   "execution_count": 4,
   "metadata": {},
   "outputs": [
    {
     "name": "stdout",
     "output_type": "stream",
     "text": [
      ">>> Loading splits...\n"
     ]
    }
   ],
   "source": [
    "train_ind, val_ind, test_ind = ta.split()\n",
    "train_set = ta.dataset.subset(train_ind)\n",
    "val_set = ta.dataset.subset(val_ind)\n",
    "test_set = ta.dataset.subset(test_ind)"
   ]
  },
  {
   "cell_type": "code",
   "execution_count": 5,
   "metadata": {},
   "outputs": [],
   "source": [
    "collater = Collater(train_set)\n",
    "train_loader = DataLoader(train_set, shuffle=False, collate_fn=collater) #batch_size=20, #shuffle needs to be true\n",
    "val_loader = DataLoader(val_set, shuffle=False, collate_fn=collater) #batch_size=2, \n",
    "test_loader = DataLoader(test_set,  shuffle=False, collate_fn=collater) #batch_size=2,"
   ]
  },
  {
   "cell_type": "code",
   "execution_count": 15,
   "metadata": {},
   "outputs": [
    {
     "name": "stdout",
     "output_type": "stream",
     "text": [
      "{'graph': DataBatch(x=[951, 1], edge_index=[2, 2714], edge_attr=[2714], y=[951, 4], batch=[951], ptr=[2]), 'rna': [<networkx.classes.digraph.DiGraph object at 0x148c892eaa20>]}\n",
      "Batch node features shape: \ttorch.Size([951, 1])\n",
      "Batch edge index shape: \ttorch.Size([2, 2714])\n",
      "Batch labels shape: \t\ttorch.Size([951, 4])\n",
      "Max Length: 5811\n",
      "Min Length: 20\n",
      "Average Length: 284.24665856622113\n",
      "Median Length: 65.0\n",
      "Number of unique edge attributes: 20\n",
      "Unique edge attributes: {0, 1, 2, 3, 4, 5, 6, 7, 8, 9, 10, 11, 12, 13, 14, 15, 16, 17, 18, 19}\n"
     ]
    }
   ],
   "source": [
    "for batch in train_loader:\n",
    "    print(batch)\n",
    "    graph = batch['graph']\n",
    "    print(f'Batch node features shape: \\t{graph.x.shape}')\n",
    "    print(f'Batch edge index shape: \\t{graph.edge_index.shape}')\n",
    "    print(f'Batch labels shape: \\t\\t{graph.y.shape}')\n",
    "    break\n",
    "\n",
    "def calculate_length_statistics(loader):\n",
    "    lengths = [data['graph'].x.shape[0] for data in loader.dataset]\n",
    "    \n",
    "    max_length = np.max(lengths)\n",
    "    min_length = np.min(lengths)\n",
    "    avg_length = np.mean(lengths)\n",
    "    median_length = np.median(lengths)\n",
    "    \n",
    "    return {\n",
    "        \"max_length\": max_length,\n",
    "        \"min_length\": min_length,\n",
    "        \"average_length\": avg_length,\n",
    "        \"median_length\": median_length\n",
    "    }\n",
    "\n",
    "stats = calculate_length_statistics(train_loader)\n",
    "print(\"Max Length:\", stats[\"max_length\"])\n",
    "print(\"Min Length:\", stats[\"min_length\"])\n",
    "print(\"Average Length:\", stats[\"average_length\"])\n",
    "print(\"Median Length:\", stats[\"median_length\"])\n",
    "\n",
    "def count_unique_edge_attrs(train_loader):\n",
    "    unique_edge_attrs = set()\n",
    "    \n",
    "    for batch in train_loader.dataset:\n",
    "        unique_edge_attrs.update(batch['graph'].edge_attr.tolist())\n",
    "    \n",
    "    return len(unique_edge_attrs), unique_edge_attrs\n",
    "\n",
    "num_unique_edge_attrs, unique_edge_attrs = count_unique_edge_attrs(train_loader)\n",
    "print(\"Number of unique edge attributes:\", num_unique_edge_attrs)\n",
    "print(\"Unique edge attributes:\", unique_edge_attrs)"
   ]
  },
  {
   "cell_type": "markdown",
   "metadata": {},
   "source": [
    "# Model"
   ]
  },
  {
   "cell_type": "code",
   "execution_count": 16,
   "metadata": {},
   "outputs": [
    {
     "name": "stderr",
     "output_type": "stream",
     "text": [
      "Failed to detect the name of this notebook, you can set it manually with the WANDB_NOTEBOOK_NAME environment variable to enable code saving.\n",
      "\u001B[34m\u001B[1mwandb\u001B[0m: Currently logged in as: \u001B[33mluiswyss\u001B[0m (\u001B[33mmlsb\u001B[0m). Use \u001B[1m`wandb login --relogin`\u001B[0m to force relogin\n"
     ]
    },
    {
     "data": {
      "text/html": [
       "wandb version 0.17.0 is available!  To upgrade, please run:\n",
       " $ pip install wandb --upgrade"
      ],
      "text/plain": [
       "<IPython.core.display.HTML object>"
      ]
     },
     "metadata": {},
     "output_type": "display_data"
    },
    {
     "data": {
      "text/html": [
       "Tracking run with wandb version 0.16.5"
      ],
      "text/plain": [
       "<IPython.core.display.HTML object>"
      ]
     },
     "metadata": {},
     "output_type": "display_data"
    },
    {
     "data": {
      "text/html": [
       "Run data is saved locally in <code>/fs/gpfs41/lv11/fileset01/pool/pool-wyss/RNA/rnaglib/rnaglib/tasks/wandb/run-20240604_183713-8jm9352p</code>"
      ],
      "text/plain": [
       "<IPython.core.display.HTML object>"
      ]
     },
     "metadata": {},
     "output_type": "display_data"
    },
    {
     "data": {
      "text/html": [
       "Syncing run <strong><a href='https://wandb.ai/mlsb/inverse_design/runs/8jm9352p/workspace' target=\"_blank\">lucky-cloud-11</a></strong> to <a href='https://wandb.ai/mlsb/inverse_design' target=\"_blank\">Weights & Biases</a> (<a href='https://wandb.me/run' target=\"_blank\">docs</a>)<br/>"
      ],
      "text/plain": [
       "<IPython.core.display.HTML object>"
      ]
     },
     "metadata": {},
     "output_type": "display_data"
    },
    {
     "data": {
      "text/html": [
       " View project at <a href='https://wandb.ai/mlsb/inverse_design' target=\"_blank\">https://wandb.ai/mlsb/inverse_design</a>"
      ],
      "text/plain": [
       "<IPython.core.display.HTML object>"
      ]
     },
     "metadata": {},
     "output_type": "display_data"
    },
    {
     "data": {
      "text/html": [
       " View run at <a href='https://wandb.ai/mlsb/inverse_design/runs/8jm9352p/workspace' target=\"_blank\">https://wandb.ai/mlsb/inverse_design/runs/8jm9352p/workspace</a>"
      ],
      "text/plain": [
       "<IPython.core.display.HTML object>"
      ]
     },
     "metadata": {},
     "output_type": "display_data"
    },
    {
     "data": {
      "text/html": [
       "<button onClick=\"this.nextSibling.style.display='block';this.style.display='none';\">Display W&B run</button><iframe src='https://wandb.ai/mlsb/inverse_design/runs/8jm9352p?jupyter=true' style='border:none;width:100%;height:420px;display:none;'></iframe>"
      ],
      "text/plain": [
       "<wandb.sdk.wandb_run.Run at 0x148c6b6372c0>"
      ]
     },
     "execution_count": 16,
     "metadata": {},
     "output_type": "execute_result"
    }
   ],
   "source": [
    "wandb.init(project=\"inverse_design\", config={\n",
    "    \"learning_rate\": 0.0001,\n",
    "    \"epochs\": 300,\n",
    "    \"batch_size\": 1,\n",
    "    \"dropout_rate\": 0.1,  \n",
    "    \"num_layers\": 2, \n",
    "    \"batch_norm\": True \n",
    "})"
   ]
  },
  {
   "cell_type": "code",
   "execution_count": 17,
   "metadata": {},
   "outputs": [],
   "source": [
    "class GCN(torch.nn.Module):\n",
    "    def __init__(self, num_node_features, num_classes):\n",
    "        super(GCN, self).__init__()\n",
    "        self.conv1 = GCNConv(num_node_features, 16)\n",
    "        self.bn1 = BatchNorm1d(16)  \n",
    "        self.dropout1 = Dropout(0.1) \n",
    "        self.conv2 = GCNConv(16, num_classes)\n",
    "        self.bn2 = BatchNorm1d(num_classes)\n",
    "\n",
    "    def forward(self, data):\n",
    "        x, edge_index = data.x, data.edge_index\n",
    "        x = self.conv1(x, edge_index)\n",
    "        x = self.bn1(x)\n",
    "        x = F.relu(x)\n",
    "        x = self.dropout1(x)\n",
    "        x = self.conv2(x, edge_index)\n",
    "        x = self.bn2(x)\n",
    "        x = F.relu(x) \n",
    "    \n",
    "        return F.log_softmax(x, dim=1)"
   ]
  },
  {
   "cell_type": "code",
   "execution_count": 18,
   "metadata": {},
   "outputs": [],
   "source": [
    "num_classes = train_loader.dataset[0]['graph'].y.size(1)\n",
    "model = GCN(train_set.input_dim, num_classes)"
   ]
  },
  {
   "cell_type": "code",
   "execution_count": null,
   "metadata": {},
   "outputs": [],
   "source": []
  },
  {
   "cell_type": "code",
   "execution_count": 19,
   "metadata": {},
   "outputs": [
    {
     "name": "stdout",
     "output_type": "stream",
     "text": [
      "{'graph': DataBatch(x=[951, 1], edge_index=[2, 2714], edge_attr=[2714], y=[951, 4], batch=[951], ptr=[2]), 'rna': [<networkx.classes.digraph.DiGraph object at 0x148c892eaa20>]}\n"
     ]
    }
   ],
   "source": [
    "for batch in train_loader:\n",
    "   print(batch)\n",
    "   break\n"
   ]
  },
  {
   "cell_type": "code",
   "execution_count": 20,
   "metadata": {},
   "outputs": [],
   "source": [
    "device = torch.device('cuda' if torch.cuda.is_available() else 'cpu')\n",
    "model = model.to(device)\n",
    "optimizer = optim.Adam(model.parameters(), lr=0.0001)\n",
    "criterion = torch.nn.CrossEntropyLoss()#weight=class_weights_tensor)"
   ]
  },
  {
   "cell_type": "code",
   "execution_count": 21,
   "metadata": {},
   "outputs": [
    {
     "name": "stdout",
     "output_type": "stream",
     "text": [
      "Epoch: 0, Train Loss: 1.4162, Train Acc: 0.2589, Val Loss: 1.7368, Val Acc: 0.2659\n",
      "Epoch: 1, Train Loss: 1.4119, Train Acc: 0.2678, Val Loss: 1.5801, Val Acc: 0.2664\n",
      "Epoch: 2, Train Loss: 1.4087, Train Acc: 0.2726, Val Loss: 1.5238, Val Acc: 0.2665\n",
      "Epoch: 3, Train Loss: 1.4066, Train Acc: 0.2759, Val Loss: 1.5299, Val Acc: 0.2672\n",
      "Epoch: 4, Train Loss: 1.4027, Train Acc: 0.2778, Val Loss: 1.5487, Val Acc: 0.2803\n",
      "Epoch: 5, Train Loss: 1.4001, Train Acc: 0.2779, Val Loss: 1.4970, Val Acc: 0.2803\n",
      "Epoch: 6, Train Loss: 1.3980, Train Acc: 0.2800, Val Loss: 1.4859, Val Acc: 0.2803\n",
      "Epoch: 7, Train Loss: 1.3969, Train Acc: 0.2810, Val Loss: 1.5221, Val Acc: 0.2803\n",
      "Epoch: 8, Train Loss: 1.3960, Train Acc: 0.2814, Val Loss: 1.4868, Val Acc: 0.2804\n",
      "Epoch: 9, Train Loss: 1.3943, Train Acc: 0.2808, Val Loss: 1.4818, Val Acc: 0.2812\n",
      "Epoch: 10, Train Loss: 1.3938, Train Acc: 0.2801, Val Loss: 1.4878, Val Acc: 0.2809\n",
      "Epoch: 11, Train Loss: 1.3924, Train Acc: 0.2796, Val Loss: 1.4638, Val Acc: 0.2819\n",
      "Epoch: 12, Train Loss: 1.3919, Train Acc: 0.2802, Val Loss: 1.4592, Val Acc: 0.2819\n",
      "Epoch: 13, Train Loss: 1.3909, Train Acc: 0.2813, Val Loss: 1.4559, Val Acc: 0.2819\n",
      "Epoch: 14, Train Loss: 1.3908, Train Acc: 0.2798, Val Loss: 1.4631, Val Acc: 0.2796\n",
      "Epoch: 15, Train Loss: 1.3897, Train Acc: 0.2796, Val Loss: 1.4456, Val Acc: 0.2819\n",
      "Epoch: 16, Train Loss: 1.3898, Train Acc: 0.2800, Val Loss: 1.4629, Val Acc: 0.2796\n",
      "Epoch: 17, Train Loss: 1.3893, Train Acc: 0.2801, Val Loss: 1.4663, Val Acc: 0.2818\n",
      "Epoch: 18, Train Loss: 1.3885, Train Acc: 0.2803, Val Loss: 1.4423, Val Acc: 0.2818\n",
      "Epoch: 19, Train Loss: 1.3885, Train Acc: 0.2814, Val Loss: 1.4379, Val Acc: 0.2819\n",
      "Epoch: 20, Train Loss: 1.3874, Train Acc: 0.2803, Val Loss: 1.4504, Val Acc: 0.2796\n",
      "Epoch: 21, Train Loss: 1.3874, Train Acc: 0.2808, Val Loss: 1.4315, Val Acc: 0.2819\n",
      "Epoch: 22, Train Loss: 1.3869, Train Acc: 0.2815, Val Loss: 1.4347, Val Acc: 0.2818\n",
      "Epoch: 23, Train Loss: 1.3863, Train Acc: 0.2814, Val Loss: 1.4311, Val Acc: 0.2819\n",
      "Epoch: 24, Train Loss: 1.3864, Train Acc: 0.2794, Val Loss: 1.4272, Val Acc: 0.2819\n",
      "Epoch: 25, Train Loss: 1.3863, Train Acc: 0.2824, Val Loss: 1.4270, Val Acc: 0.2811\n",
      "Epoch: 26, Train Loss: 1.3859, Train Acc: 0.2805, Val Loss: 1.4212, Val Acc: 0.2819\n",
      "Epoch: 27, Train Loss: 1.3857, Train Acc: 0.2805, Val Loss: 1.4203, Val Acc: 0.2819\n",
      "Epoch: 28, Train Loss: 1.3854, Train Acc: 0.2797, Val Loss: 1.4185, Val Acc: 0.2819\n",
      "Epoch: 29, Train Loss: 1.3846, Train Acc: 0.2805, Val Loss: 1.4253, Val Acc: 0.2818\n"
     ]
    }
   ],
   "source": [
    "def train():\n",
    "    model.train()\n",
    "    running_loss = 0.0\n",
    "    correct_predictions = 0\n",
    "    total_predictions = 0\n",
    "\n",
    "    for batch in train_loader:\n",
    "        graph = batch['graph']\n",
    "        graph = graph.to(device)\n",
    "        optimizer.zero_grad()\n",
    "        out = model(graph)\n",
    "\n",
    "        # Convert one-hot encoded labels to class indices\n",
    "        labels = graph.y.argmax(dim=1).long()\n",
    "        loss = criterion(out, labels)\n",
    "        loss.backward()\n",
    "        optimizer.step()\n",
    "        \n",
    "        # Log the loss\n",
    "        wandb.log({\"train_loss\": loss.item()})\n",
    "        running_loss += loss.item()\n",
    "\n",
    "        # Convert one-hot encoded predictions to class indices\n",
    "        preds = out.argmax(dim=1)\n",
    "        correct_predictions += (preds == labels).sum().item()\n",
    "        total_predictions += labels.size(0)\n",
    "\n",
    "    # Calculate average loss and accuracy\n",
    "    avg_loss = running_loss / len(train_loader)\n",
    "    accuracy = correct_predictions / total_predictions\n",
    "    return avg_loss, accuracy\n",
    "\n",
    "def evaluate(loader):\n",
    "    model.eval()\n",
    "    total_loss = 0.0\n",
    "    correct_predictions = 0\n",
    "    total_predictions = 0\n",
    "\n",
    "    with torch.no_grad():\n",
    "        for batch in loader:\n",
    "            graph = batch['graph']\n",
    "            graph = graph.to(device)\n",
    "            out = model(graph)\n",
    "\n",
    "            # Convert one-hot encoded labels to class indices\n",
    "            labels = graph.y.argmax(dim=1).long()\n",
    "            loss = criterion(out, labels)\n",
    "            total_loss += loss.item()\n",
    "\n",
    "            # Convert one-hot encoded predictions to class indices\n",
    "            preds = out.argmax(dim=1)\n",
    "            correct_predictions += (preds == labels).sum().item()\n",
    "            total_predictions += labels.size(0)\n",
    "\n",
    "    avg_loss = total_loss / len(loader)\n",
    "    accuracy = correct_predictions / total_predictions\n",
    "    return avg_loss, accuracy\n",
    "\n",
    "# Main training loop\n",
    "for epoch in range(5000):\n",
    "    train_loss, train_accuracy = train()\n",
    "    val_loss, val_accuracy = evaluate(val_loader)\n",
    "    print(f'Epoch: {epoch}, Train Loss: {train_loss:.4f}, Train Acc: {train_accuracy:.4f}, Val Loss: {val_loss:.4f}, Val Acc: {val_accuracy:.4f}')\n",
    "    wandb.log({\n",
    "        \"train_loss\": train_loss,\n",
    "        \"train_accuracy\": train_accuracy,\n",
    "        \"val_loss\": val_loss,\n",
    "        \"val_accuracy\": val_accuracy\n",
    "    })"
   ]
  },
  {
   "cell_type": "code",
   "execution_count": null,
   "metadata": {},
   "outputs": [],
   "source": []
  }
 ],
 "metadata": {
  "kernelspec": {
   "display_name": "Python 3",
   "language": "python",
   "name": "python3"
  },
  "language_info": {
   "codemirror_mode": {
    "name": "ipython",
    "version": 3
   },
   "file_extension": ".py",
   "mimetype": "text/x-python",
   "name": "python",
   "nbconvert_exporter": "python",
   "pygments_lexer": "ipython3",
   "version": "3.12.3"
  }
 },
 "nbformat": 4,
 "nbformat_minor": 2
}
