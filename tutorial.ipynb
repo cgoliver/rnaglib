{
 "cells": [
  {
   "cell_type": "markdown",
   "metadata": {},
   "source": "## 1. Quick start and overview of RNAglib"
  },
  {
   "cell_type": "markdown",
   "metadata": {},
   "source": [
    "In this section, we describe the main object types of RNAglib's Task module. \n",
    "A more in-depth description of the objects described here is presented in the online's documentation (rnaglib.org), under the section \"a peek under the hood\".\n",
    "\n",
    "### 1.1. RNADataset\n",
    "\n",
    "RNADataset objects represent a set of RNAs, each one being represented by its 3D structure.\n",
    "\n",
    "Each item of the RNADataset is encoded by a dictionary containing (under the key \"rna\") the networkx Graph representing the RNA.\n",
    "\n",
    "It is also possible to add Representation and FeaturesComputer objects to a RNADataset.\n",
    "\n",
    "To create a default RNA Dataset, you can run the code below"
   ]
  },
  {
   "cell_type": "code",
   "metadata": {
    "ExecuteTime": {
     "end_time": "2025-03-24T18:21:06.812105Z",
     "start_time": "2025-03-24T18:21:04.907578Z"
    }
   },
   "source": [
    "from rnaglib.dataset import RNADataset\n",
    "\n",
    "dataset = RNADataset(debug=True)"
   ],
   "outputs": [
    {
     "name": "stdout",
     "output_type": "stream",
     "text": [
      "Database was found and not overwritten\n"
     ]
    }
   ],
   "execution_count": 1
  },
  {
   "cell_type": "markdown",
   "metadata": {},
   "source": [
    "When calling the `__get_item__` method of a `RNADataset` object, which takes as argument the index of one RNA, the following steps happen:\n",
    "* If the dataset has `dataset.in_memory=False`, the graph of this RNA is loaded (otherwise, it has already been loaded)\n",
    "* A dictionary encoding the RNA called `rna_dict` is being built. This dictionary has 3 items: the graph of the RNA, the path of the graph and the path of the structures of the RNA\n",
    "* If some transforms to apply have been specified in `dataset.transforms`, then these transforms are being applied to the dataset.\n",
    "* The features dictionary of this RNA is being computed using the transform `dataset.features_computer` which is an attribute of the dataset and maps a dictionary of type `rna_dict` to a  dictionary of features.\n",
    "* Each representation associated with the dataset (that is to say contained in `dataset.representations`) is being applied to the considered RNA and appended to the dictionary `rna_dict`\n",
    "* The method returns the dictionary `rna_dict_` which contains the graph of the RNA (under the key `rna`), the path to the graph (under the key `graph_path`), the path to the RNA structures (under the key `cif_path`) and the RNA representations for each representation of  `dataset.representations` (under the keys corresponding to the representation names such as `graph` or `point_cloud`)"
   ]
  },
  {
   "cell_type": "code",
   "metadata": {
    "ExecuteTime": {
     "end_time": "2025-03-24T18:21:06.858978Z",
     "start_time": "2025-03-24T18:21:06.850432Z"
    }
   },
   "source": "dataset[0]",
   "outputs": [
    {
     "data": {
      "text/plain": [
       "{'rna': <networkx.classes.digraph.DiGraph at 0x7c3fe560fec0>,\n",
       " 'graph_path': PosixPath('/home/vincent/.rnaglib/datasets/rnaglib-nr-2.0.2/graphs/1a9n.json'),\n",
       " 'cif_path': PosixPath('/home/vincent/.rnaglib/structures/1a9n.cif')}"
      ]
     },
     "execution_count": 2,
     "metadata": {},
     "output_type": "execute_result"
    }
   ],
   "execution_count": 2
  },
  {
   "metadata": {},
   "cell_type": "markdown",
   "source": [
    "### 1.2. Transform\n",
    "\n",
    "The Transform class groups all functions taking RNAs (i.e. the items of a RNADataset object) as inputs. A specific tutorial gives further details about this class: https://rnaglib.org/en/latest/rnaglib.transforms.html"
   ]
  },
  {
   "metadata": {
    "ExecuteTime": {
     "end_time": "2025-03-24T18:21:06.919200Z",
     "start_time": "2025-03-24T18:21:06.914413Z"
    }
   },
   "cell_type": "code",
   "source": [
    "from rnaglib.transforms import IdentityTransform\n",
    "\n",
    "rna = dataset[10]\n",
    "t = IdentityTransform()\n",
    "new_rna = t(rna)\n",
    "new_rna"
   ],
   "outputs": [
    {
     "data": {
      "text/plain": [
       "{'rna': <networkx.classes.digraph.DiGraph at 0x7c3fe5696720>,\n",
       " 'graph_path': PosixPath('/home/vincent/.rnaglib/datasets/rnaglib-nr-2.0.2/graphs/1d4r.json'),\n",
       " 'cif_path': PosixPath('/home/vincent/.rnaglib/structures/1d4r.cif')}"
      ]
     },
     "execution_count": 3,
     "metadata": {},
     "output_type": "execute_result"
    }
   ],
   "execution_count": 3
  },
  {
   "metadata": {},
   "cell_type": "markdown",
   "source": [
    "Transforms are split in different categories :\n",
    "\n",
    "* **Filter**: accept or reject an RNA based on some criteria (e.g. remove RNAs that are too large)\n",
    "\n",
    "* **Partition**: generate a collection of substructure from a whole RNA (e.g. break up an RNA into individual chains)\n",
    "\n",
    "* **Annotation**: adds or removes annotations from the RNA (e.g. query a database and store results in the RNA)\n",
    "\n",
    "  * **Featurize**: A special kind of annotation that convert some RNA features into tensors for learning.\n",
    "\n",
    "* **Represent**: compute tensor-based representations of RNAs (e.g. convert to voxel grid)"
   ]
  },
  {
   "metadata": {
    "ExecuteTime": {
     "end_time": "2025-03-24T18:21:06.981531Z",
     "start_time": "2025-03-24T18:21:06.978084Z"
    }
   },
   "cell_type": "code",
   "source": [
    "from rnaglib.transforms import SizeFilter\n",
    "\n",
    "t = SizeFilter(max_size=200)\n",
    "t(rna)"
   ],
   "outputs": [
    {
     "data": {
      "text/plain": [
       "True"
      ]
     },
     "execution_count": 4,
     "metadata": {},
     "output_type": "execute_result"
    }
   ],
   "execution_count": 4
  },
  {
   "cell_type": "markdown",
   "metadata": {},
   "source": [
    "### 1.3. Dataset Transforms\n",
    "\n",
    "``DSTransform`` are transformed that take a whole RNADataset as input and return a whole dataset.\n",
    "\n",
    "They mostly revolve around computing distances between RNAs in the dataset, which is in turn used to remove redundancy and split the dataset."
   ]
  },
  {
   "metadata": {
    "ExecuteTime": {
     "end_time": "2025-03-24T18:21:07.099481Z",
     "start_time": "2025-03-24T18:21:07.037510Z"
    }
   },
   "cell_type": "code",
   "source": [
    "from rnaglib.dataset import RNADataset\n",
    "from rnaglib.dataset_transforms import CDHitComputer\n",
    "\n",
    "rna_names = ['1a9n', '1av6', '1b23']\n",
    "dataset = RNADataset(rna_id_subset=rna_names)\n",
    "\n",
    "dataset = CDHitComputer()(dataset)\n",
    "dataset.distances"
   ],
   "outputs": [
    {
     "name": "stdout",
     "output_type": "stream",
     "text": [
      "Database was found and not overwritten\n"
     ]
    },
    {
     "name": "stderr",
     "output_type": "stream",
     "text": [
      "CD-Hit: 100%|██████████| 3/3 [00:00<00:00, 72315.59it/s]"
     ]
    },
    {
     "name": "stdout",
     "output_type": "stream",
     "text": [
      "Subsetting started...\n",
      "Subsetting completed successfully.\n"
     ]
    },
    {
     "name": "stderr",
     "output_type": "stream",
     "text": [
      "\n"
     ]
    },
    {
     "data": {
      "text/plain": [
       "{'cd_hit': array([[0., 1., 1.],\n",
       "        [1., 0., 1.],\n",
       "        [1., 1., 0.]])}"
      ]
     },
     "execution_count": 5,
     "metadata": {},
     "output_type": "execute_result"
    }
   ],
   "execution_count": 5
  },
  {
   "metadata": {},
   "cell_type": "markdown",
   "source": [
    "### 1.4. Tasks\n",
    "\n",
    "A Task is an object representing a benchmarking task to be performed on the RNA.\n",
    " \n",
    "This objects gathers a specific RNADataset, obtained by applying RNA transforms from the original database. This is implemented in process(). \n",
    "In addition, it includes redundancy removal and custom splitting, as implemented in the function post_process().\n",
    "\n",
    "We propose seven tasks that can be fetched directly from Zenodo. "
   ]
  },
  {
   "metadata": {
    "ExecuteTime": {
     "end_time": "2025-03-24T18:21:07.738539Z",
     "start_time": "2025-03-24T18:21:07.155938Z"
    }
   },
   "cell_type": "code",
   "source": [
    "from rnaglib.tasks import BindingSite\n",
    "\n",
    "task_site = BindingSite(root='my_root')"
   ],
   "outputs": [
    {
     "name": "stdout",
     "output_type": "stream",
     "text": [
      ">>> Loading precomputed task...\n",
      ">>> Done\n"
     ]
    }
   ],
   "execution_count": 6
  },
  {
   "cell_type": "markdown",
   "metadata": {},
   "source": ""
  },
  {
   "cell_type": "markdown",
   "metadata": {},
   "source": [
    "## 2. Using the tasks\n",
    "\n",
    "#### 2.1. Instantiate the task\n",
    "\n",
    "Choose the task appropriate to your model. Here, we chose _RNA-Site_ for illustration.\n",
    "When instantiating the task, custom splitters or other arguments can be passed if needed."
   ]
  },
  {
   "cell_type": "markdown",
   "metadata": {},
   "source": ""
  },
  {
   "cell_type": "code",
   "metadata": {
    "ExecuteTime": {
     "end_time": "2025-03-24T18:21:08.058062Z",
     "start_time": "2025-03-24T18:21:07.747311Z"
    }
   },
   "source": [
    "from rnaglib.tasks import BindingSite\n",
    "from rnaglib.transforms import FeaturesComputer\n",
    "\n",
    "task = BindingSite(root=\"my_root\")"
   ],
   "outputs": [
    {
     "name": "stdout",
     "output_type": "stream",
     "text": [
      ">>> Loading precomputed task...\n",
      ">>> Done\n"
     ]
    }
   ],
   "execution_count": 7
  },
  {
   "cell_type": "markdown",
   "metadata": {},
   "source": "#### 2.2. [Optional] Customize the task dataset with a custom annotator"
  },
  {
   "cell_type": "markdown",
   "metadata": {},
   "source": "You might want to go further by implementing custom transforms to add new features to the nodes of the graphs, for instance to propose a new task, or train a better model using those new annotations. The custom annotator will typically be called in the `process()` method of a `Task` object."
  },
  {
   "cell_type": "code",
   "metadata": {
    "ExecuteTime": {
     "end_time": "2025-03-24T18:21:08.064901Z",
     "start_time": "2025-03-24T18:21:08.062364Z"
    }
   },
   "source": [
    "from rnaglib.transforms import AnnotationTransform\n",
    "from networkx import set_node_attributes\n",
    "\n",
    "\n",
    "class CustomAnnotator(AnnotationTransform):\n",
    "    def forward(self, rna_dict: dict) -> dict:\n",
    "        custom_annotation = {\n",
    "            node: self._custom_annotation(nodedata)\n",
    "            for node, nodedata in rna_dict['rna'].nodes(data=True)\n",
    "        }\n",
    "        set_node_attributes(rna_dict['rna'], custom_annotation, \"custom_annotation\")\n",
    "        return rna_dict\n",
    "\n",
    "    @staticmethod\n",
    "    def _custom_annotation(nodedata):\n",
    "        return None  # RNA dictionary-wise formula to compute the custom annotation"
   ],
   "outputs": [],
   "execution_count": 8
  },
  {
   "cell_type": "markdown",
   "metadata": {},
   "source": [
    "Once defined, you can apply your custom annotator to the dataset using the following code:"
   ]
  },
  {
   "cell_type": "code",
   "metadata": {
    "ExecuteTime": {
     "end_time": "2025-03-24T18:21:08.120886Z",
     "start_time": "2025-03-24T18:21:08.115432Z"
    }
   },
   "source": [
    "task.dataset.transforms.append(CustomAnnotator())\n",
    "# Get nodes in the first item of the dataset, to show the new custom annotation\n",
    "nodes = list(task.dataset[0]['rna'].nodes(data=True))\n",
    "node, data = nodes[0]\n",
    "print(data['custom_annotation'])"
   ],
   "outputs": [
    {
     "name": "stdout",
     "output_type": "stream",
     "text": [
      "None\n"
     ]
    }
   ],
   "execution_count": 9
  },
  {
   "cell_type": "markdown",
   "metadata": {},
   "source": [
    "#### 2.3. [Optional] Customize the features"
   ]
  },
  {
   "cell_type": "markdown",
   "metadata": {},
   "source": [
    "You might want to use input features which are different from the default ones specified for this task in RNAglib. In this case, it is necessary to add it to the features computer of the RNA.\n",
    "The features can be chosen among the list of features available in the RNA graph.\n",
    "\n",
    "The other avenue is to create custom features. To do so, you should subclass the `Transform` object and specify:\n",
    "\n",
    "* its `name`\n",
    "\n",
    "* its `forward` method taking as input the dictionary representing one RNA and returning the updated RNA dictionary (containing its additional features)\n",
    "\n",
    "Once the custom features have been created, you still have to add them to the FeaturesComputer of the graph. To do so, you can check the documentation above (cf. section \"Adding features to the features computer of a RNADataset\").\n",
    "Below is the structure to write such a transform:"
   ]
  },
  {
   "cell_type": "code",
   "metadata": {
    "ExecuteTime": {
     "end_time": "2025-03-24T18:21:08.184803Z",
     "start_time": "2025-03-24T18:21:08.176881Z"
    }
   },
   "source": [
    "from rnaglib.transforms import Transform\n",
    "\n",
    "\n",
    "class AddCustomFeature(Transform):\n",
    "    name = \"add_custom_feature\"\n",
    "\n",
    "    def __init__(self, **kwargs):\n",
    "        super().__init__(**kwargs)\n",
    "\n",
    "    def forward(self, rna_dict):\n",
    "        # ... compute and add additional features\n",
    "        rna_dict[\"custom\"] = 0\n",
    "        return rna_dict\n",
    "\n",
    "\n",
    "task.dataset.transforms.append(AddCustomFeature())\n",
    "task.dataset[0]"
   ],
   "outputs": [
    {
     "data": {
      "text/plain": [
       "{'rna': <networkx.classes.digraph.DiGraph at 0x7c3fe5ad9a30>,\n",
       " 'graph_path': PosixPath('my_root/dataset/1a34_0.json'),\n",
       " 'cif_path': None,\n",
       " 'custom': 0}"
      ]
     },
     "execution_count": 10,
     "metadata": {},
     "output_type": "execute_result"
    }
   ],
   "execution_count": 10
  },
  {
   "cell_type": "markdown",
   "metadata": {},
   "source": [
    "#### 2.4. Add a representation\n",
    "\n",
    "##### 2.4.1. Add an already implemented representation\n",
    "\n",
    "It is necessary to add to the dataset a representation of the RNA structure. If the representation you want to add to perform the task is already implemented, you have to follow the code below. Already implemented representations include graphs (`GraphRepresentation` class), point clouds (`PointCloudRepresentation` class), voxels (`VoxelRepresentation` class) and rings (`RingRepresentation` class)."
   ]
  },
  {
   "cell_type": "code",
   "metadata": {
    "ExecuteTime": {
     "end_time": "2025-03-24T18:21:08.361010Z",
     "start_time": "2025-03-24T18:21:08.235307Z"
    }
   },
   "source": [
    "from rnaglib.transforms import GraphRepresentation\n",
    "\n",
    "task.dataset.add_representation(GraphRepresentation(framework='pyg'))\n",
    "task.dataset[0]"
   ],
   "outputs": [
    {
     "name": "stdout",
     "output_type": "stream",
     "text": [
      ">>> Adding graph to dataset representations.\n"
     ]
    },
    {
     "data": {
      "text/plain": [
       "{'rna': <networkx.classes.digraph.DiGraph at 0x7c3fdb8f6780>,\n",
       " 'graph_path': PosixPath('my_root/dataset/1a34_0.json'),\n",
       " 'cif_path': None,\n",
       " 'custom': 0,\n",
       " 'graph': Data(x=[20, 4], edge_index=[2, 54], edge_attr=[54], y=[20])}"
      ]
     },
     "execution_count": 11,
     "metadata": {},
     "output_type": "execute_result"
    }
   ],
   "execution_count": 11
  },
  {
   "cell_type": "markdown",
   "metadata": {},
   "source": [
    "##### 2.4.2. Create a custom representation\n",
    "\n",
    "However, you might want to use a representation which doesn't belong to the aforementioned already implemented representations. In this case, you have to define your transformation."
   ]
  },
  {
   "cell_type": "code",
   "metadata": {
    "ExecuteTime": {
     "end_time": "2025-03-24T18:21:08.367613Z",
     "start_time": "2025-03-24T18:21:08.365468Z"
    }
   },
   "source": [
    "from rnaglib.transforms import Representation\n",
    "\n",
    "\n",
    "class CustomRepresentation(Representation):\n",
    "    \"\"\"\n",
    "    Converts RNA into a custom representation (here just 0).\n",
    "    \"\"\"\n",
    "\n",
    "    def __init__(self):\n",
    "        super().__init__()\n",
    "        pass\n",
    "\n",
    "    def __call__(self, rna_graph, features_dict):\n",
    "        # computes the representation\n",
    "        return 0\n",
    "\n",
    "    @property\n",
    "    def name(self):\n",
    "        return \"custom_representation\"  # the name of the representation\n",
    "\n",
    "    def batch(self, samples):\n",
    "        # ... defines the way to batch representations of different samples together\n",
    "        return samples"
   ],
   "outputs": [],
   "execution_count": 12
  },
  {
   "cell_type": "markdown",
   "metadata": {},
   "source": [
    "Once the transformation has been defined, you have to add it to the dataset as in the case in which the representation has already been implemented"
   ]
  },
  {
   "cell_type": "code",
   "metadata": {
    "ExecuteTime": {
     "end_time": "2025-03-24T18:21:08.422928Z",
     "start_time": "2025-03-24T18:21:08.419993Z"
    }
   },
   "source": "task.dataset.add_representation(CustomRepresentation())",
   "outputs": [
    {
     "name": "stdout",
     "output_type": "stream",
     "text": [
      ">>> Adding custom_representation to dataset representations.\n"
     ]
    }
   ],
   "execution_count": 13
  },
  {
   "cell_type": "markdown",
   "metadata": {},
   "source": [
    "#### 2.5. Set loaders\n",
    "\n",
    "Since we changed the dataset by adding a representation (and maybe some additional features) to it, it is necessary to call `set_loaders` in order to update the train, val and test dataloaders."
   ]
  },
  {
   "cell_type": "code",
   "metadata": {
    "ExecuteTime": {
     "end_time": "2025-03-24T18:21:08.554426Z",
     "start_time": "2025-03-24T18:21:08.536207Z"
    }
   },
   "source": [
    "# The default splitting algorithm tries to balance the labels present in our data, which can take a few minutes.\n",
    "# For illustration purposes we use a RandomSplitter instead.\n",
    "from rnaglib.dataset_transforms import RandomSplitter\n",
    "task.splitter = RandomSplitter()\n",
    "task.set_loaders()\n",
    "for batch in task.train_dataloader:\n",
    "    print(batch)\n",
    "    break"
   ],
   "outputs": [
    {
     "name": "stdout",
     "output_type": "stream",
     "text": [
      "Subsetting started...\n",
      "Subsetting completed successfully.\n",
      "Subsetting started...\n",
      "Subsetting completed successfully.\n",
      "Subsetting started...\n",
      "Subsetting completed successfully.\n",
      "{'graph': DataBatch(x=[75, 4], edge_index=[2, 206], edge_attr=[206], y=[75], batch=[75], ptr=[2]), 'custom_representation': [0], 'rna': [<networkx.classes.digraph.DiGraph object at 0x7c3fdbd8ae70>], 'cif_path': [None], 'custom': [0], 'graph_path': [PosixPath('my_root/dataset/1asz_0.json')]}\n"
     ]
    }
   ],
   "execution_count": 14
  },
  {
   "cell_type": "markdown",
   "metadata": {},
   "source": [
    "\n",
    "### 3. Creating custom tasks\n",
    "\n",
    "#### Create a custom Task\n",
    "\n",
    "In order to create a custom task, you have to define it as a subclass of a task category (for instance ResidueClassificationClass or a subclass you have created by yourself) and to specify the following:\n",
    "\n",
    "* a name\n",
    "* an input variable or a list of input variables: the inputs of the model\n",
    "* a target variable: the variable which has to be predicted by the model\n",
    "* a method `get_tasks_var` specifying the FeaturesComputer to build to perform the task (in general, it will call the aforementioned target and input variables)\n",
    "* a method `process` creqting the dataset and applying some preprocessing to the dataset (especially annotation and filtering transforms) if needed\n",
    "\n",
    "If the task belongs to another task category than ResidueClassificationClass (that is to say, node-level classification task), you have to define a new Task subclass corresponding to this task category and to specify:\n",
    "* a method named `dummy_model` returning a dummy model to use to check the task is working well without any effort to define a model\n",
    "* a method named `evaluate` which, given a model, outputs a dictionary containing performace metrics of this model on the task of interest.\n",
    "\n",
    "A step-by-step tutorial is available in the online documentation"
   ]
  },
  {
   "metadata": {},
   "cell_type": "markdown",
   "source": ""
  }
 ],
 "metadata": {
  "kernelspec": {
   "display_name": "RNApython",
   "language": "python",
   "name": "python3"
  },
  "language_info": {
   "codemirror_mode": {
    "name": "ipython",
    "version": 3
   },
   "file_extension": ".py",
   "mimetype": "text/x-python",
   "name": "python",
   "nbconvert_exporter": "python",
   "pygments_lexer": "ipython3",
   "version": "3.11.8"
  }
 },
 "nbformat": 4,
 "nbformat_minor": 2
}
