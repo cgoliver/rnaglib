{
 "cells": [
  {
   "cell_type": "markdown",
   "metadata": {},
   "source": [
    "### Quick start : Run a RNA task easily"
   ]
  },
  {
   "cell_type": "markdown",
   "metadata": {},
   "source": [
    "First, generate the necessary index files\n",
    "\n",
    "You can use the following command: \n",
    "```\n",
    "$ rnaglib_index\n",
    "```"
   ]
  },
  {
   "cell_type": "markdown",
   "metadata": {},
   "source": [
    "Choose the task appropriate to your model. Here, we chose _RNA-Site_, a task instance called `LigandBindindSite` for illustration.\n",
    "When instantiating the task, custom splitters or other arguments can be passed if needed."
   ]
  },
  {
   "cell_type": "code",
   "execution_count": 1,
   "metadata": {},
   "outputs": [
    {
     "name": "stdout",
     "output_type": "stream",
     "text": [
      "Index file not found at /Users/wissam/.rnaglib/indexes/rnaglib-nr-1.0.0.json. Run rnaglib_index\n",
      ">>> Loading splits...\n",
      ">>> Done\n"
     ]
    },
    {
     "name": "stderr",
     "output_type": "stream",
     "text": [
      "/opt/anaconda3/envs/RNApython/lib/python3.11/site-packages/networkx/readwrite/json_graph/node_link.py:287: FutureWarning: \n",
      "The default value will be changed to `edges=\"edges\" in NetworkX 3.6.\n",
      "\n",
      "To make this warning go away, explicitly set the edges kwarg, e.g.:\n",
      "\n",
      "  nx.node_link_graph(data, edges=\"links\") to preserve current behavior, or\n",
      "  nx.node_link_graph(data, edges=\"edges\") for forward compatibility.\n",
      "  warnings.warn(\n"
     ]
    }
   ],
   "source": [
    "from rnaglib.tasks import BindingSiteDetection\n",
    "from rnaglib.transforms import FeaturesComputer, GraphRepresentation\n",
    "\n",
    "task = BindingSiteDetection(root='tutorial') # You can pass arguments to use a custom splitter or dataset etc. if desired."
   ]
  },
  {
   "cell_type": "markdown",
   "metadata": {},
   "source": [
    "Choose your features and your targets (here, the feature is the nucleotide code and the target is the binding site)"
   ]
  },
  {
   "cell_type": "code",
   "execution_count": 2,
   "metadata": {},
   "outputs": [],
   "source": [
    "from rnaglib.encoders import BoolEncoder\n",
    "from rnaglib.transforms import FeaturesComputer\n",
    "task.dataset.features_computer = FeaturesComputer(nt_features=['nt_code'], nt_targets='binding_site', custom_encoders= {'binding_site' : BoolEncoder()})"
   ]
  },
  {
   "cell_type": "markdown",
   "metadata": {},
   "source": [
    "Choose your representation (here Pytorch Geometric graphs)"
   ]
  },
  {
   "cell_type": "code",
   "execution_count": 3,
   "metadata": {},
   "outputs": [
    {
     "name": "stdout",
     "output_type": "stream",
     "text": [
      ">>> Adding <rnaglib.transforms.represent.graph.GraphRepresentation object at 0x177197510> representations.\n"
     ]
    }
   ],
   "source": [
    "task.dataset.add_representation(GraphRepresentation(framework='pyg'))"
   ]
  },
  {
   "cell_type": "markdown",
   "metadata": {},
   "source": [
    "Set train, validation and test loaders"
   ]
  },
  {
   "cell_type": "code",
   "execution_count": 4,
   "metadata": {},
   "outputs": [],
   "source": [
    "task.set_loaders()"
   ]
  },
  {
   "cell_type": "markdown",
   "metadata": {},
   "source": [
    "Define your model and training (here, a dummy model)"
   ]
  },
  {
   "cell_type": "code",
   "execution_count": 5,
   "metadata": {},
   "outputs": [],
   "source": [
    "model = task.dummy_model"
   ]
  },
  {
   "cell_type": "markdown",
   "metadata": {},
   "source": [
    "Evaluate the model on the defined task"
   ]
  },
  {
   "cell_type": "code",
   "execution_count": 6,
   "metadata": {},
   "outputs": [
    {
     "name": "stdout",
     "output_type": "stream",
     "text": [
      "{'accuracy': 0.4894837476099426, 'mcc': -0.015326770874804748, 'f1': 0.47337278106508873}\n"
     ]
    }
   ],
   "source": [
    "final_result = task.evaluate(model)\n",
    "print(final_result)"
   ]
  },
  {
   "cell_type": "markdown",
   "metadata": {},
   "source": [
    "### Get familiar with RNAglib objects"
   ]
  },
  {
   "cell_type": "markdown",
   "metadata": {},
   "source": [
    "#### RNADataset"
   ]
  },
  {
   "cell_type": "markdown",
   "metadata": {},
   "source": [
    "RNADataset objects represent a set of RNAs, each one being represented by its 3D structure.\n",
    "\n",
    "In facts, each item of the RNADataset is encoded by a dictionary containing the networkx Graph representing the RNA.\n",
    "\n",
    "It is also possible to add Representation and FeaturesComputer objects to a RNADataset.\n",
    "\n",
    "To create a default RNA Dataset, you can run the code below"
   ]
  },
  {
   "cell_type": "code",
   "execution_count": 8,
   "metadata": {},
   "outputs": [
    {
     "name": "stdout",
     "output_type": "stream",
     "text": [
      "Database was found and not overwritten\n"
     ]
    }
   ],
   "source": [
    "from rnaglib.data_loading import RNADataset\n",
    "\n",
    "dataset = RNADataset()"
   ]
  },
  {
   "cell_type": "markdown",
   "metadata": {},
   "source": [
    "#### Transform\n",
    "\n",
    "The Transform class groups all the objects which maps the dictionaries representing RNAs (i.e. an item of a RNADataset object) into another object.\n",
    "\n",
    "A specific tutorial gives further details about this class: https://rnaglib.org/en/latest/rnaglib.transforms.html\n",
    "\n",
    "Below are detailed two particular types of Transforms: Representations and FeaturesComputers.\n",
    "\n",
    "##### Representation\n",
    "\n",
    "A Representation object is a Tranaform that maps a RNA dictionary (as defined above) into a mathematical representation of this RNA. In the current version of RNAGlib, 4 representations are already implemented: GraphRepresentation, PointCloudRepresentation, VoxelRepresentation and Rings\n",
    "\n",
    "GraphRepresentation converts RNA into a Leontis-Westhof graph (2.5D) where nodes are residues and edges are either base pairs or backbones.\n",
    "\n",
    "PointCloudRepresentation converts RNA into a 3D point cloud based representation.\n",
    "\n",
    "VoxelRepresentation converts RNA into a voxel/3D grid representation.\n",
    "\n",
    "##### FeaturesComputer\n",
    "\n",
    "A FeaturesComputer is a Transform that maps a RNA Dictionary into a dictionary of features (both RNA-level and node-level features)."
   ]
  },
  {
   "cell_type": "markdown",
   "metadata": {},
   "source": [
    "### Advanced functionalities\n",
    "\n",
    "#### Adding a representation to a RNADataset\n",
    "\n",
    "A Representation object (or several representations grouped in a list) can be passed as argument to RNADataset during its creation or added to a RNADataset which has already been created using the following code:"
   ]
  },
  {
   "cell_type": "code",
   "execution_count": 9,
   "metadata": {},
   "outputs": [
    {
     "name": "stdout",
     "output_type": "stream",
     "text": [
      ">>> Adding [<class 'rnaglib.transforms.represent.graph.GraphRepresentation'>, <class 'rnaglib.transforms.represent.point_cloud.PointCloudRepresentation'>] representations.\n"
     ]
    }
   ],
   "source": [
    "from rnaglib.transforms import GraphRepresentation, PointCloudRepresentation\n",
    "representations_list = [GraphRepresentation, PointCloudRepresentation]\n",
    "dataset.add_representation(representations_list)"
   ]
  },
  {
   "cell_type": "markdown",
   "metadata": {},
   "source": [
    "#### Removing a representation\n",
    "\n",
    "It is possible to remove one or several Representation object(s) from a RNADataset using the code below by using their names (it could be \"graph\" for GraphRepresentation, \"point_cloud\" for PointCloudRepresentation, \"voxel\" for VoxelRepresentation or \"ring\" for RingRepresentation)"
   ]
  },
  {
   "cell_type": "code",
   "execution_count": 16,
   "metadata": {},
   "outputs": [],
   "source": [
    "dataset.remove_representation([\"point_cloud\"])"
   ]
  },
  {
   "cell_type": "markdown",
   "metadata": {},
   "source": [
    "#### Adding features to a RNADataset\n",
    "\n"
   ]
  },
  {
   "cell_type": "markdown",
   "metadata": {},
   "source": [
    "### Customization\n",
    "\n",
    "#### Create a custom Transform"
   ]
  },
  {
   "cell_type": "code",
   "execution_count": null,
   "metadata": {},
   "outputs": [],
   "source": []
  }
 ],
 "metadata": {
  "kernelspec": {
   "display_name": "RNApython",
   "language": "python",
   "name": "python3"
  },
  "language_info": {
   "codemirror_mode": {
    "name": "ipython",
    "version": 3
   },
   "file_extension": ".py",
   "mimetype": "text/x-python",
   "name": "python",
   "nbconvert_exporter": "python",
   "pygments_lexer": "ipython3",
   "version": "3.11.8"
  }
 },
 "nbformat": 4,
 "nbformat_minor": 2
}
