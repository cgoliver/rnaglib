{
 "cells": [
  {
   "cell_type": "markdown",
   "metadata": {},
   "source": [
    "### Quick start : Run a RNA task easily"
   ]
  },
  {
   "cell_type": "markdown",
   "metadata": {},
   "source": [
    "First, generate the necessary index files\n",
    "\n",
    "You can use the following command: \n",
    "```\n",
    "$ rnaglib_index\n",
    "```"
   ]
  },
  {
   "cell_type": "markdown",
   "metadata": {},
   "source": [
    "Choose the task appropriate to your model. Here, we chose _RNA-Site_, a task instance called `LigandBindingSite` for illustration.\n",
    "When instantiating the task, custom splitters or other arguments can be passed if needed."
   ]
  },
  {
   "cell_type": "code",
   "execution_count": null,
   "metadata": {},
   "outputs": [],
   "source": [
    "from rnaglib.tasks import BindingSiteDetection\n",
    "from rnaglib.transforms import FeaturesComputer, GraphRepresentation\n",
    "\n",
    "task = BindingSiteDetection(root='tutorial') # You can pass arguments to use a custom splitter or dataset etc. if desired."
   ]
  },
  {
   "cell_type": "markdown",
   "metadata": {},
   "source": [
    "Choose your features and your targets (here, the feature is the nucleotide code and the target is the binding site)"
   ]
  },
  {
   "cell_type": "code",
   "execution_count": 2,
   "metadata": {},
   "outputs": [],
   "source": [
    "from rnaglib.encoders import BoolEncoder\n",
    "from rnaglib.transforms import FeaturesComputer\n",
    "task.dataset.features_computer = FeaturesComputer(nt_features=['nt_code'], nt_targets='binding_site', custom_encoders= {'binding_site' : BoolEncoder()})"
   ]
  },
  {
   "cell_type": "markdown",
   "metadata": {},
   "source": [
    "Choose your representation (here Pytorch Geometric graphs)"
   ]
  },
  {
   "cell_type": "code",
   "execution_count": 3,
   "metadata": {},
   "outputs": [
    {
     "name": "stdout",
     "output_type": "stream",
     "text": [
      ">>> Adding <rnaglib.transforms.represent.graph.GraphRepresentation object at 0x177197510> representations.\n"
     ]
    }
   ],
   "source": [
    "task.dataset.add_representation(GraphRepresentation(framework='pyg'))"
   ]
  },
  {
   "cell_type": "markdown",
   "metadata": {},
   "source": [
    "Set train, validation and test loaders"
   ]
  },
  {
   "cell_type": "code",
   "execution_count": 4,
   "metadata": {},
   "outputs": [],
   "source": [
    "task.set_loaders()"
   ]
  },
  {
   "cell_type": "markdown",
   "metadata": {},
   "source": [
    "Define your model and training (here, a dummy model)"
   ]
  },
  {
   "cell_type": "code",
   "execution_count": 5,
   "metadata": {},
   "outputs": [],
   "source": [
    "model = task.dummy_model"
   ]
  },
  {
   "cell_type": "markdown",
   "metadata": {},
   "source": [
    "Evaluate the model on the defined task"
   ]
  },
  {
   "cell_type": "code",
   "execution_count": 6,
   "metadata": {},
   "outputs": [
    {
     "name": "stdout",
     "output_type": "stream",
     "text": [
      "{'accuracy': 0.4894837476099426, 'mcc': -0.015326770874804748, 'f1': 0.47337278106508873}\n"
     ]
    }
   ],
   "source": [
    "final_result = task.evaluate(model)\n",
    "print(final_result)"
   ]
  },
  {
   "cell_type": "markdown",
   "metadata": {},
   "source": [
    "### Getting familiar with RNAglib objects"
   ]
  },
  {
   "cell_type": "markdown",
   "metadata": {},
   "source": [
    "#### RNADataset"
   ]
  },
  {
   "cell_type": "markdown",
   "metadata": {},
   "source": [
    "RNADataset objects represent a set of RNAs, each one being represented by its 3D structure.\n",
    "\n",
    "Each item of the RNADataset is encoded by a dictionary containing (under the key \"rna\") the networkx Graph representing the RNA.\n",
    "\n",
    "It is also possible to add Representation and FeaturesComputer objects to a RNADataset.\n",
    "\n",
    "To create a default RNA Dataset, you can run the code below"
   ]
  },
  {
   "cell_type": "code",
   "execution_count": 48,
   "metadata": {},
   "outputs": [
    {
     "name": "stdout",
     "output_type": "stream",
     "text": [
      "Database was found and not overwritten\n"
     ]
    },
    {
     "name": "stderr",
     "output_type": "stream",
     "text": [
      "/opt/anaconda3/envs/RNApython/lib/python3.11/site-packages/networkx/readwrite/json_graph/node_link.py:287: FutureWarning: \n",
      "The default value will be changed to `edges=\"edges\" in NetworkX 3.6.\n",
      "\n",
      "To make this warning go away, explicitly set the edges kwarg, e.g.:\n",
      "\n",
      "  nx.node_link_graph(data, edges=\"links\") to preserve current behavior, or\n",
      "  nx.node_link_graph(data, edges=\"edges\") for forward compatibility.\n",
      "  warnings.warn(\n"
     ]
    }
   ],
   "source": [
    "from rnaglib.data_loading import RNADataset\n",
    "\n",
    "dataset = RNADataset()"
   ]
  },
  {
   "cell_type": "markdown",
   "metadata": {},
   "source": [
    "#### Transform\n",
    "\n",
    "The Transform class groups all the functions which map the dictionaries representing RNAs (i.e. the items of a RNADataset object) into other objects (other dictionqries or objects of a different nature).\n",
    "\n",
    "A specific tutorial gives further details about this class: https://rnaglib.org/en/latest/rnaglib.transforms.html\n",
    "\n",
    "Below are detailed some subclasses of Transform: Representation, FeaturesComputer, FilterTransform, AnnotationTransform, PartitionTransform, Compose and ComposeFilters.\n",
    "\n",
    "##### Representation\n",
    "\n",
    "A Representation object is a Transform that maps a RNA dictionary (as defined above) to a mathematical representation of this RNA. In the current version of RNAGlib, 4 representations are already implemented: GraphRepresentation, PointCloudRepresentation, VoxelRepresentation and RingRepresentation\n",
    "\n",
    "GraphRepresentation converts RNA into a Leontis-Westhof graph (2.5D) where nodes are residues and edges are either base pairs or backbones.\n",
    "\n",
    "PointCloudRepresentation converts RNA into a 3D point cloud based representation.\n",
    "\n",
    "VoxelRepresentation converts RNA into a voxel/3D grid representation.\n",
    "\n",
    "RingRepresentation converts RNA into a ring-based representation.\n",
    "\n",
    "##### FeaturesComputer\n",
    "\n",
    "A FeaturesComputer is a Transform that maps a RNA Dictionary to a dictionary of features and targets (both RNA-level and node-level features and targets) of this RNA.\n",
    "\n",
    "##### FilterTransform\n",
    "\n",
    "A FilterTransform returns the RNAs of the RNADataset that pass a certain filter.\n",
    "\n",
    "##### AnnotationTransform\n",
    "\n",
    "An AnnotationTransform is a transform computing additional node features within each RNA graph.\n",
    "\n",
    "##### PartitionTransform\n",
    "\n",
    "A PartitionTransform is a transform which breaks up each RNA structure into substructures.\n",
    "\n",
    "##### Compose\n",
    "\n",
    "A Compose object is a Transform which consists in the composition of a series of transforms.\n",
    "\n",
    "##### ComposeFilters\n",
    "\n",
    "A ComposeFilters object is a Transform consisting in the composition of a series of filters (objects of type FilterTransform)\n",
    "\n",
    "#### Tasks\n",
    "\n",
    "A Task is an object representing a benchmarking task to be performed on the RNA. It is associated with a specific RNADataset. Once implemented, the Task object can be called to evaluate the performance on the defined Task of various models. One particular category of Tasks is already implemented as a subclass of Tasks: ResidueClassificationTask, which groups all the tasks consisting in classifying the amino-acids of the RNA.\n",
    "\n",
    "#### Encoders\n",
    "\n",
    "Encoders are objects that vectorize features with a specific encoding. Indeed, the features available in the RNA NetworkX graph might have different types, including text, therefore it is necessary to vectorize them to perform learning using them."
   ]
  },
  {
   "cell_type": "markdown",
   "metadata": {},
   "source": [
    "### Advanced functionalities\n",
    "\n",
    "#### Adding a representation to a RNADataset\n",
    "\n",
    "A Representation object (or several representations grouped in a list) can be passed as argument to RNADataset during its creation or added to a RNADataset which has already been created using the following code:"
   ]
  },
  {
   "cell_type": "code",
   "execution_count": 50,
   "metadata": {},
   "outputs": [
    {
     "name": "stdout",
     "output_type": "stream",
     "text": [
      ">>> Adding [<rnaglib.transforms.represent.graph.GraphRepresentation object at 0x5917a2790>, <rnaglib.transforms.represent.point_cloud.PointCloudRepresentation object at 0x4995c7910>] representations.\n"
     ]
    }
   ],
   "source": [
    "from rnaglib.transforms import GraphRepresentation, PointCloudRepresentation\n",
    "representations_list = [\n",
    "    GraphRepresentation(), \n",
    "    PointCloudRepresentation()\n",
    "]\n",
    "dataset.add_representation(representations_list)"
   ]
  },
  {
   "cell_type": "markdown",
   "metadata": {},
   "source": [
    "#### Removing a representation\n",
    "\n",
    "It is possible to remove one or several Representation object(s) from a RNADataset using the code below by using their names (it could be \"graph\" for GraphRepresentation, \"point_cloud\" for PointCloudRepresentation, \"voxel\" for VoxelRepresentation or \"ring\" for RingRepresentation)"
   ]
  },
  {
   "cell_type": "code",
   "execution_count": 53,
   "metadata": {},
   "outputs": [],
   "source": [
    "dataset.remove_representation([\"point_cloud\"])"
   ]
  },
  {
   "cell_type": "markdown",
   "metadata": {},
   "source": [
    "#### Adding features to the features computer of a RNADataset\n",
    "\n",
    "If you want to use a (node-level or RNA-level) feature to perform a task on the RNA, it is necessary to add it to the features computer of the RNA.\n",
    "\n",
    "The features can be chosen among the list of features available in the RNA graph: 'index', 'index_chain', 'chain_name', 'nt_resnum', 'nt_name', 'nt_code', 'nt_id', 'nt_type', 'dbn', 'summary', 'alpha', 'beta', 'gamma', 'delta', 'epsilon', 'zeta', 'epsilon_zeta', 'bb_type', 'chi', 'glyco_bond', 'C5prime_xyz', 'P_xyz', 'form', 'ssZp', 'Dp', 'splay_angle', 'splay_distance', 'splay_ratio', 'eta', 'theta', 'eta_prime', 'theta_prime', 'eta_base', 'theta_base', 'v0', 'v1', 'v2', 'v3', 'v4', 'amplitude', 'phase_angle', 'puckering', 'sugar_class', 'bin', 'cluster', 'suiteness', 'filter_rmsd', 'frame', 'sse', 'binding_protein', 'binding_ion', 'binding_small-molecule'.\n",
    "\n",
    "When adding a feature to the features computer, you have to specify a dictionary named `custom_encoders` mapping each feature to the encoder chosen to encode the feature. Canonical encoders corresponding to each feature are available in [NODE_FEATURE_MAP](https://github.com/cgoliver/rnaglib/blob/30bded91462f655c235ef57efc07e834456615a4/src/rnaglib/config/feature_encoders.py#L7)\n",
    "\n",
    "In the example below, we add the feature named `\"phase_angle\"` to the features computer of the dataset and specify that it should be encoded using the pre-implemented FloatEncoder."
   ]
  },
  {
   "cell_type": "code",
   "execution_count": 82,
   "metadata": {},
   "outputs": [],
   "source": [
    "from rnaglib.encoders import FloatEncoder\n",
    "\n",
    "dataset.features_computer.add_feature(feature_names=\"phase_angle\", custom_encoders={\"phase_angle\":FloatEncoder()})"
   ]
  },
  {
   "cell_type": "markdown",
   "metadata": {},
   "source": [
    "### Customization\n",
    "\n",
    "#### Create a custom Task\n",
    "\n",
    "In order to create a custom task, you have to define it as a subclass of a task category (for instance ResidueClassificationClass or a subclass you have created by yourself) and to specify the following:\n",
    "\n",
    "* a target variable: the variable which has to be predicted by the model\n",
    "* an input variable or a list of input variables: the inputs of the model\n",
    "* a method `get_tasks_var` specifying the FeaturesComputer to build to perform the task (in general, it will call the aforementioned target and input variables)\n",
    "* a method `process` creqting the dataset and applying some preprocessing to the dataset (especially annotation and filtering transforms) if needed"
   ]
  },
  {
   "cell_type": "markdown",
   "metadata": {},
   "source": [
    "If the task belongs to another task category than ResidueClassificationClass (that is to say, node-level classification task), you have to define a new Task subclass corresponding to this task category and to specify:\n",
    "* a method named `dummy_model` returning a dummy model to use to check the task is working well without any effort to define a model\n",
    "* a method named `evaluate` which, given a model, outputs a dictionary containing performace metrics of this model on the task of interest."
   ]
  },
  {
   "cell_type": "markdown",
   "metadata": {},
   "source": [
    "For instance, in the cell below, we define a toy task called AnglePrediction consisting in predicting the phase angle by using the nucleotide code.\n",
    "\n",
    "Since it is a regression and not a classification task, we first need to define a new subclass of Tasks class which we will call `ResidueRegression`."
   ]
  },
  {
   "cell_type": "code",
   "execution_count": 110,
   "metadata": {},
   "outputs": [],
   "source": [
    "import torch\n",
    "from rnaglib.tasks import Task\n",
    "from rnaglib.utils import DummyResidueModel\n",
    "from sklearn.metrics import root_mean_squared_error, mean_absolute_error\n",
    "\n",
    "class ResidueRegression(Task):\n",
    "    def __init__(self, root, splitter=None, **kwargs):\n",
    "        super().__init__(root=root, splitter=splitter, **kwargs)\n",
    "\n",
    "    @property\n",
    "    def dummy_model(self) -> torch.nn:\n",
    "        return DummyResidueModel()\n",
    "\n",
    "    def evaluate(self, model: torch.nn, device: str = \"cpu\") -> dict:\n",
    "        model.eval()\n",
    "        all_probs = []\n",
    "        all_preds = []\n",
    "        all_labels = []\n",
    "\n",
    "        with torch.no_grad():\n",
    "            for batch in self.test_dataloader:\n",
    "                graph = batch[\"graph\"]\n",
    "                graph = graph.to(device)\n",
    "                out = model(graph)\n",
    "\n",
    "                preds = out > 0.5\n",
    "                all_probs.extend(out.cpu().flatten().tolist())\n",
    "                all_preds.extend(preds.cpu().flatten().tolist())\n",
    "                all_labels.extend(graph.cpu().y.flatten().tolist())\n",
    "\n",
    "        # Compute performance metrics\n",
    "        RMSE = root_mean_squared_error(all_labels, all_preds)\n",
    "        MAE = mean_absolute_error(all_labels, preds)\n",
    "\n",
    "\n",
    "        return {\"RMSE\": RMSE, \"MAE\": MAE}"
   ]
  },
  {
   "cell_type": "markdown",
   "metadata": {},
   "source": [
    "Once the subclass `ResidueRegression` is defined, one can define the specific task `AnglePrediction`"
   ]
  },
  {
   "cell_type": "code",
   "execution_count": 111,
   "metadata": {},
   "outputs": [],
   "source": [
    "from rnaglib.transforms import PDBIDNameTransform\n",
    "\n",
    "class AnglePrediction(ResidueRegression):\n",
    "    # Target variable\n",
    "    target_var = \"phase_angle\"\n",
    "    # Input variable\n",
    "    input_var = \"nt_code\"\n",
    "\n",
    "    def __init__(self, root, splitter=None, **kwargs):\n",
    "        super().__init__(root=root, splitter=splitter, **kwargs)\n",
    "        \n",
    "    # Creation and preprocessing of the dataset\n",
    "    def process(self) -> RNADataset:\n",
    "        rnas = RNADataset(debug=False, redundancy='all', rna_id_subset=SPLITTING_VARS['PDB_TO_CHAIN_TR60_TE18'].keys())\n",
    "        dataset = RNADataset(rnas=[r[\"rna\"] for r in rnas])\n",
    "        # TODO: remove wrong chains using  SPLITTING_VARS[\"PDB_TO_CHAIN_TR60_TE18\"]\n",
    "        rnas = PDBIDNameTransform()(rnas)\n",
    "        dataset = RNADataset(rnas=[r[\"rna\"] for r in rnas]) \n",
    "        return dataset\n",
    "    \n",
    "    # Computation of the FeaturesComputer\n",
    "    def get_task_vars(self) -> FeaturesComputer:\n",
    "        return FeaturesComputer(\n",
    "            nt_features=[self.input_var],\n",
    "            nt_targets=self.target_var,\n",
    "            custom_encoders={self.target_var: BoolEncoder()},\n",
    "        )"
   ]
  },
  {
   "cell_type": "markdown",
   "metadata": {},
   "source": [
    "#### Create a custom representation\n",
    "\n",
    "In order to create a custom Representation object, you have to define a subclass of `Representation` an to specify the methods `__init__`, `__call__`, `name` and `batch`."
   ]
  },
  {
   "cell_type": "markdown",
   "metadata": {},
   "source": [
    "#### Create custom features\n",
    "\n",
    "The strategy to create custom features consists in creating a Transform object which takes as input a RNADataset and transforms it by adding the new features to the graphs representing all of the items of the RNADataset.\n",
    "\n",
    "To do so, you have to build a subclass of `Transform` and specify:\n",
    "\n",
    "* its `name`\n",
    "\n",
    "* its associated `encoder`\n",
    "\n",
    "* its `forward` method taking as input the dictionary representing one RNA and returning the updated RNA dictionary (containing its additional features)\n",
    "\n",
    "Once the custom features have been created, you still have to add them to the FeaturesComputer of the graph. To do so, you can check the documentation above (cf. section \"Adding features to the features computer of a RNADataset).\n",
    "\n",
    "Below is the structure to write such a transform:"
   ]
  },
  {
   "cell_type": "code",
   "execution_count": null,
   "metadata": {},
   "outputs": [],
   "source": [
    "from rnaglib.transforms import Transform\n",
    "\n",
    "class CustomTransform(Transform):\n",
    "    name = \"custom_transform\"\n",
    "    encoder = ...\n",
    "    def __init__(\n",
    "            self, **kwargs\n",
    "    ):\n",
    "        super().__init__(**kwargs)\n",
    "    def forward(self, rna_dict: Dict) -> Dict:\n",
    "\n",
    "        ... # compute and add additional features\n",
    "\n",
    "        return rna_dict"
   ]
  },
  {
   "cell_type": "markdown",
   "metadata": {},
   "source": [
    "#### Create a custom model\n",
    "\n",
    "Some models have already been implemented and can be accessed to in `rnaglib.learning.models`. The available models include `Embedder`, `Classifier`, `DotPredictor`, `BasePairPredictor`. However, you might want to define a custom ML model, be it to perform a custom task or to challenge the performance of already implemented models on an existing task. Here is the structure of the code to write in order to implement a new model."
   ]
  },
  {
   "cell_type": "code",
   "execution_count": null,
   "metadata": {},
   "outputs": [],
   "source": [
    "class CustomModel(torch.nn.Module):\n",
    "    def __init__(self, num_node_features, num_classes, num_unique_edge_attrs, num_layers=2, hidden_channels=16):\n",
    "        super().__init__()\n",
    "        \n",
    "        ... # Instantiate layers\n",
    "\n",
    "    def forward(self, data):\n",
    "        x, edge_index, edge_type, batch = data.x, data.edge_index, data.edge_attr, data.batch\n",
    "\n",
    "        ...\n",
    "\n",
    "        return x"
   ]
  },
  {
   "cell_type": "markdown",
   "metadata": {},
   "source": [
    "#### Create a custom annotator\n",
    "\n",
    "You might want to create a custom annotator to add new features to the nodes of the graphs, for instance to perform a new task  using those new annotations. The custom annotator will typically be called in the `process` method of a `Task` object."
   ]
  },
  {
   "cell_type": "code",
   "execution_count": null,
   "metadata": {},
   "outputs": [],
   "source": [
    "from rnaglib.transforms import AnnotationTransform\n",
    "from networkx import set_node_attributes\n",
    "\n",
    "class CustomAnnotator(AnnotationTransform):\n",
    "    def forward (self, rna_dict: dict) -> dict:        \n",
    "        custom_annotation = {\n",
    "            node: self._custom_annotation(nodedata)\n",
    "            for node, nodedata in rna_dict['rna'].nodes(data=True)\n",
    "        }\n",
    "        set_node_attributes(rna_dict['rna'], custom_annotation, \"custom_annotation\")\n",
    "        return rna_dict\n",
    "    @staticmethod\n",
    "    def _has_binding_site(nodedata: dict) -> bool:\n",
    "        return ... # RNA dictionary-wise formula to compute the custom annotation"
   ]
  },
  {
   "cell_type": "markdown",
   "metadata": {},
   "source": [
    "#### Create a custom filter\n",
    "\n",
    "Several filters are already implemented and available in `rnaglib.transforms`: `SizeFilter` which rejects RNAs which are not in the given size bounds, `RNAAttributeFilter` that rejects RNAs that lack a certain annotation at the whole RNA level, `ResidueAttributeFilter` which rejects RNAs that lack a certain annotation at the whole residue-level, `RibosomalFilter` that rejects ribsosomal RNA and `NameFilter` that filters RNA based on their names. However, you might want to create your own filter. This one could be for instance called in the `process` method of a new `Task` object."
   ]
  },
  {
   "cell_type": "code",
   "execution_count": null,
   "metadata": {},
   "outputs": [],
   "source": [
    "from rnaglib.transforms import FilterTransform\n",
    "\n",
    "class CustomFilter(FilterTransform):\n",
    "\n",
    "    def __init__(self, ..., **kwargs):\n",
    "        ...\n",
    "        super().__init__(**kwargs)\n",
    "\n",
    "    def forward(self, rna_dict: dict) -> bool:\n",
    "\n",
    "        ...\n",
    "\n",
    "        return ... # should return a Boolean (True if the RNA described by rna_dict passes the filter, False otherwise)"
   ]
  }
 ],
 "metadata": {
  "kernelspec": {
   "display_name": "RNApython",
   "language": "python",
   "name": "python3"
  },
  "language_info": {
   "codemirror_mode": {
    "name": "ipython",
    "version": 3
   },
   "file_extension": ".py",
   "mimetype": "text/x-python",
   "name": "python",
   "nbconvert_exporter": "python",
   "pygments_lexer": "ipython3",
   "version": "3.11.8"
  }
 },
 "nbformat": 4,
 "nbformat_minor": 2
}
